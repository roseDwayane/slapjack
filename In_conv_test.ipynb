{
 "cells": [
  {
   "cell_type": "code",
   "execution_count": 67,
   "metadata": {},
   "outputs": [],
   "source": [
    "import torch\n",
    "from torch import nn\n",
    "import torch.nn.functional as F\n",
    "import random\n",
    "import os\n",
    "\n",
    "__all__ = ['Input_conv', 'Net']\n",
    "\n",
    "class Input_conv(nn.Module):\n",
    "    def __init__(self, in_channels, out_channels, ks_x=25, ks_y=3):\n",
    "        super().__init__()\n",
    "        pad_x = int((ks_x - 1) / 2)\n",
    "        pad_y = int((ks_y - 1) / 2)\n",
    "        self.relu = nn.ReLU(inplace=True)\n",
    "        self.conv1 = nn.Conv2d(in_channels, out_channels, kernel_size=(ks_y,ks_x),padding=(pad_y, pad_x))\n",
    "        self.bn1 = nn.BatchNorm2d(out_channels)\n",
    "        self.pool = nn.MaxPool2d((1, 100))\n",
    "        self.flat = nn.Flatten(2, -1)\n",
    "\n",
    "    def forward(self, x1, x2):\n",
    "        out1 = self.conv1(x1)\n",
    "        print(\"Network: \", out1.shape)\n",
    "        out1 = self.bn1(out1)\n",
    "        print(\"Network: \", out1.shape)\n",
    "        out1 = self.pool(out1)\n",
    "        print(\"Network: \", out1.shape)\n",
    "        out1 = self.flat(out1)\n",
    "        print(\"Network: \", out1.shape)\n",
    "        out1 = torch.unsqueeze(out1, -1)\n",
    "        print(\"Network: \", out1.shape)\n",
    "\n",
    "        out2 = self.conv1(x2)\n",
    "        out2 = self.bn1(out2)\n",
    "        out2 = self.pool(out2)\n",
    "        out2 = self.flat(out2)\n",
    "        out2 = torch.unsqueeze(out2, -2)\n",
    "        print(\"Network: \", out2.shape)\n",
    "\n",
    "        out = torch.matmul(out1, out2)\n",
    "\n",
    "        return out\n",
    "\n",
    "def read_train_data(file_name):\n",
    "    with open(file_name, 'r', newline='') as f:\n",
    "        lines = csv.reader(f)\n",
    "        data = []\n",
    "        for line in lines:\n",
    "            data.append(line)\n",
    "\n",
    "    data = np.array(data).astype(np.float)\n",
    "    return data\n",
    "\n",
    "def set_seed(seed: int = 42) -> None:\n",
    "    np.random.seed(seed)\n",
    "    random.seed(seed)\n",
    "    torch.manual_seed(seed)\n",
    "    torch.cuda.manual_seed(seed)\n",
    "    # When running on the CuDNN backend, two further options must be set\n",
    "    torch.backends.cudnn.deterministic = True\n",
    "    torch.backends.cudnn.benchmark = False\n",
    "    # Set a fixed value for the hash seed\n",
    "    os.environ[\"PYTHONHASHSEED\"] = str(seed)\n",
    "    print(f\"Random seed set as {seed}\")\n"
   ]
  },
  {
   "cell_type": "code",
   "execution_count": 2,
   "metadata": {},
   "outputs": [
    {
     "ename": "NameError",
     "evalue": "name 'set_seed' is not defined",
     "output_type": "error",
     "traceback": [
      "\u001b[1;31m---------------------------------------------------------------------------\u001b[0m",
      "\u001b[1;31mNameError\u001b[0m                                 Traceback (most recent call last)",
      "\u001b[1;32m<ipython-input-2-84f7e92fc31c>\u001b[0m in \u001b[0;36m<module>\u001b[1;34m\u001b[0m\n\u001b[0;32m      5\u001b[0m \u001b[1;33m\u001b[0m\u001b[0m\n\u001b[0;32m      6\u001b[0m \u001b[1;31m#inputs = torch.rand(1,1,3,1000)\u001b[0m\u001b[1;33m\u001b[0m\u001b[1;33m\u001b[0m\u001b[1;33m\u001b[0m\u001b[0m\n\u001b[1;32m----> 7\u001b[1;33m \u001b[0mset_seed\u001b[0m\u001b[1;33m(\u001b[0m\u001b[1;33m)\u001b[0m\u001b[1;33m\u001b[0m\u001b[1;33m\u001b[0m\u001b[0m\n\u001b[0m\u001b[0;32m      8\u001b[0m \u001b[0mtitle\u001b[0m \u001b[1;33m=\u001b[0m \u001b[1;33m[\u001b[0m\u001b[1;34m'coop'\u001b[0m\u001b[1;33m,\u001b[0m \u001b[1;34m'comp'\u001b[0m\u001b[1;33m,\u001b[0m \u001b[1;34m'singlebystander'\u001b[0m\u001b[1;33m,\u001b[0m \u001b[1;34m'singleplayer'\u001b[0m\u001b[1;33m]\u001b[0m\u001b[1;33m\u001b[0m\u001b[1;33m\u001b[0m\u001b[0m\n\u001b[0;32m      9\u001b[0m \u001b[1;33m\u001b[0m\u001b[0m\n",
      "\u001b[1;31mNameError\u001b[0m: name 'set_seed' is not defined"
     ]
    }
   ],
   "source": [
    "import matplotlib.pyplot as plt\n",
    "import numpy as np\n",
    "from scipy import signal\n",
    "import csv\n",
    "\n",
    "#inputs = torch.rand(1,1,3,1000)\n",
    "set_seed()\n",
    "title = ['coop', 'comp', 'singlebystander', 'singleplayer']\n",
    "\n",
    "for i in range(1):\n",
    "    inputs = read_train_data('./slapjack_csv/' + title[i] + '/1_1_A.csv')\n",
    "    inputs = torch.from_numpy(inputs).float()\n",
    "    inputs = torch.unsqueeze(inputs, 0)\n",
    "    inputs = torch.unsqueeze(inputs, 0)\n",
    "\n",
    "    inputs2 = read_train_data('./slapjack_csv/' + title[i] + '/1_1_B.csv')\n",
    "    inputs2 = torch.from_numpy(inputs2).float()\n",
    "    inputs2 = torch.unsqueeze(inputs2, 0)\n",
    "    inputs2 = torch.unsqueeze(inputs2, 0)\n",
    "    print(inputs.shape)\n",
    "\n",
    "\n",
    "\n",
    "    model = Input_conv(in_channels=1, out_channels=2)\n",
    "    output = model(inputs, inputs2)\n",
    "    print(output.shape)\n",
    "\n",
    "    output = output.detach().numpy()\n",
    "    print(\"max:\", np.argmax(output[0,0,:,:], axis=1))\n",
    "    plt.matshow(output[0,0,:,:], vmin=0, vmax=50)\n",
    "    plt.colorbar()\n",
    "    plt.savefig('./' + title[i] + '.png')\n",
    "    plt.show()"
   ]
  },
  {
   "cell_type": "code",
   "execution_count": 66,
   "metadata": {},
   "outputs": [
    {
     "name": "stdout",
     "output_type": "stream",
     "text": [
      "Network:  torch.Size([1, 3, 1])\n",
      "Network:  torch.Size([1, 1, 3])\n",
      "tensor([[[ 4,  5,  6],\n",
      "         [ 8, 10, 12],\n",
      "         [12, 15, 18]]], dtype=torch.int32)\n"
     ]
    }
   ],
   "source": [
    "out1 = torch.tensor(np.array([[[1], [2], [3]]]))\n",
    "print(\"Network: \", out1.shape)\n",
    "out2 = torch.tensor(np.array([[[4, 5, 6]]]))\n",
    "print(\"Network: \", out2.shape)\n",
    "out = torch.matmul(out1, out2)\n",
    "print(out)"
   ]
  },
  {
   "cell_type": "code",
   "execution_count": 4,
   "metadata": {},
   "outputs": [
    {
     "name": "stdout",
     "output_type": "stream",
     "text": [
      "1 year(s):  -13244443.302270485\n",
      "2 year(s):  -3529052.63424976\n",
      "3 year(s):  27910595.668972\n",
      "4 year(s):  209781603.3062585\n",
      "5 year(s):  534961794.03290856\n"
     ]
    }
   ],
   "source": [
    "ans=0\n",
    "y= [-12738911,8987884, 27975217,155653128, 267680698]\n",
    "for i in range(5):\n",
    "    ans += y[i]*np.power(1.0532, i+1)/np.power(1.013, i+1)\n",
    "    print(i+1, \"year(s): \", ans)"
   ]
  },
  {
   "cell_type": "code",
   "execution_count": null,
   "metadata": {},
   "outputs": [],
   "source": []
  },
  {
   "cell_type": "code",
   "execution_count": null,
   "metadata": {},
   "outputs": [],
   "source": [
    "  (12738911)   8987884    27975217    155653128    267680698"
   ]
  },
  {
   "cell_type": "code",
   "execution_count": null,
   "metadata": {},
   "outputs": [],
   "source": []
  },
  {
   "cell_type": "code",
   "execution_count": null,
   "metadata": {},
   "outputs": [],
   "source": []
  }
 ],
 "metadata": {
  "kernelspec": {
   "display_name": "Python 3",
   "language": "python",
   "name": "python3"
  },
  "language_info": {
   "codemirror_mode": {
    "name": "ipython",
    "version": 3
   },
   "file_extension": ".py",
   "mimetype": "text/x-python",
   "name": "python",
   "nbconvert_exporter": "python",
   "pygments_lexer": "ipython3",
   "version": "3.7.6"
  }
 },
 "nbformat": 4,
 "nbformat_minor": 4
}
